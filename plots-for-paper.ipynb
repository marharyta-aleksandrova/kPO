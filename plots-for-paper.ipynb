{
 "cells": [
  {
   "cell_type": "code",
   "execution_count": null,
   "metadata": {},
   "outputs": [],
   "source": [
    "import matplotlib.pyplot as plt \n",
    "import numpy as np\n",
    "import math\n",
    "\n",
    "import tikzplotlib\n",
    "\n",
    "from matplotlib.pyplot import figure\n",
    "\n",
    "from scipy import integrate"
   ]
  },
  {
   "cell_type": "code",
   "execution_count": null,
   "metadata": {},
   "outputs": [],
   "source": [
    "precision = 0.0000001"
   ]
  },
  {
   "cell_type": "markdown",
   "metadata": {},
   "source": [
    "# Selections of specified measure, $\\mu = 0.4$ in the paper (Fig. 5)"
   ]
  },
  {
   "cell_type": "code",
   "execution_count": null,
   "metadata": {},
   "outputs": [],
   "source": [
    "my_area_to_select = 0.4"
   ]
  },
  {
   "cell_type": "code",
   "execution_count": null,
   "metadata": {},
   "outputs": [],
   "source": [
    "def samesign(a, b):\n",
    "        return a * b > 0\n",
    "\n",
    "def invert(funct, value, low, high):\n",
    "    def bisect(func, low, high):\n",
    "        'Find root of continuous function where f(low) and f(high) have opposite signs'\n",
    "        assert not samesign(func(low), func(high))\n",
    "        midpoint =0\n",
    "        while abs(low-high) > precision:\n",
    "            midpoint = (low + high) / 2.0\n",
    "            if samesign(func(low), func(midpoint)):\n",
    "                low = midpoint\n",
    "            else:\n",
    "                high = midpoint\n",
    "        return midpoint\n",
    "    def to_bissect(x):\n",
    "        return funct(x)-value\n",
    "    return bisect(to_bissect, low, high)\n",
    "\n",
    "def min_k(area):\n",
    "    return invert(lambda k: 2*k-k*k, area, 0, 1)\n",
    "\n",
    "def max_k(area):\n",
    "    return invert(lambda k: k*k, area, 0, 1)\n",
    "\n",
    "def sum_k(area):\n",
    "    return invert(lambda k: sum_area(k), area, 0, 1)\n",
    "\n",
    "def prod_k(area):\n",
    "    return invert(lambda k: prod_area(k), area, 0, 1)\n",
    "\n",
    "def sum_area(k):\n",
    "    if k<1:\n",
    "        return 0.5*k*k\n",
    "    else:\n",
    "        return 0.5*k*k - (k-1)*(k-1)\n",
    "    \n",
    "def prod_area(k):\n",
    "    if k == 0:\n",
    "        return 0.0\n",
    "    else:\n",
    "        return k - k * math.log(k)\n",
    "    \n",
    "def min_x2(x1, k):\n",
    "    if x1 is None:\n",
    "        return np.nan\n",
    "    if x1 < k:\n",
    "        return np.nan\n",
    "    return k\n",
    "\n",
    "def max_x2(x1, k):\n",
    "    if x1 is None:\n",
    "        return np.nan\n",
    "    if x1 > k:\n",
    "        return np.nan\n",
    "    return k\n",
    "\n",
    "def sum_x2(x1, k):\n",
    "    if x1 is None:\n",
    "        return np.nan\n",
    "    if k-x1>1:\n",
    "        return np.nan\n",
    "    if x1 > k: \n",
    "        return np.nan\n",
    "    return k-x1\n",
    "\n",
    "def prod_x2(x1, k):\n",
    "    if x1 is None:\n",
    "        return np.nan\n",
    "    if x1 < k:\n",
    "        return np.nan\n",
    "    return k/x1"
   ]
  },
  {
   "cell_type": "code",
   "execution_count": null,
   "metadata": {},
   "outputs": [],
   "source": [
    "my_min_k = min_k(my_area_to_select)\n",
    "my_max_k = max_k(my_area_to_select)\n",
    "my_sum_k = sum_k(my_area_to_select)\n",
    "my_prod_k = prod_k(my_area_to_select)\n",
    "#print(\"my_uniform_k: \"+str(my_uniform_k))\n",
    "\n",
    "x1_values =  np.linspace(0.0, 1, 1000)\n",
    "\n",
    "min_x2_values = np.array(list(map(lambda x1: min_x2(x1, my_min_k), x1_values)))\n",
    "max_x2_values = np.array(list(map(lambda x1: max_x2(x1, my_max_k), x1_values)))\n",
    "sum_x2_values = np.array(list(map(lambda x1: sum_x2(x1, my_sum_k), x1_values)))\n",
    "prod_x2_values = np.array(list(map(lambda x1: prod_x2(x1, my_prod_k), x1_values)))\n",
    "\n",
    "# plotting the line 1 points\n",
    "figure(figsize=(4, 4), dpi=80)\n",
    "plt.plot(x1_values, min_x2_values, \"k-\",label = \"$min(x_1,x_2)$\") \n",
    "plt.plot(min_x2_values, x1_values, \"k-\", label='_nolegend_') \n",
    "plt.plot(x1_values, max_x2_values, \"k:\",label = \"$max(x_1,x_2)$\") \n",
    "plt.plot( max_x2_values, x1_values, \"k:\", label='_nolegend_') \n",
    "plt.plot(x1_values, sum_x2_values, \"k-.\",label = \"$(x_1 + x_2)/2$\") \n",
    "plt.plot(x1_values, prod_x2_values, \"k--\",label = \"$x_1 x_2$ (po)\") \n",
    "plt.xlim(0, 1)\n",
    "plt.ylim(0, 1) \n",
    "# naming the x axis \n",
    "plt.xlabel('$x_1$') \n",
    "# naming the y axis \n",
    "plt.ylabel('$x_2$') \n",
    "# giving a title to my graph \n",
    "#plt.title('impartiality for various utility functions!') \n",
    "  \n",
    "# show a legend on the plot \n",
    "plt.legend() \n",
    "\n",
    "plt.grid(True)\n",
    "  \n",
    "# function to show the plot \n",
    "#plt.savefig('selections_40pct.png')\n",
    "#tikzplotlib.save(\"selections_40pct.tex\")\n",
    "\n",
    "plt.show() "
   ]
  },
  {
   "cell_type": "markdown",
   "metadata": {},
   "source": [
    "# Diversity vs area (Fig. 6)"
   ]
  },
  {
   "cell_type": "code",
   "execution_count": null,
   "metadata": {},
   "outputs": [],
   "source": [
    "def prod_choice(k):\n",
    "    return (k-k*math.log(k))*(k-k*math.log(k))-k*k*(0.5-math.log(k))\n",
    "\n",
    "def prod_diversity(area): \n",
    "    if area==0: \n",
    "        return 1\n",
    "    else:\n",
    "        k = invert(lambda k: prod_area(k), area, 0, 1) \n",
    "        return prod_choice(k)/(area*area)\n",
    "\n",
    "def sum_po_integral(k):\n",
    "    if k <= 1:\n",
    "        return (1/24)*k*k*k*k\n",
    "    elif k>1:\n",
    "        return (1/4)*(k-1)*(k-1) + 1/8 -k/3+(k*k)/4 -(1/8)*(k-1)**4 +(1/3)*k*(k-1)**3 - (1/4)*k*k*(k-1)*(k-1)\n",
    "\n",
    "def sum_diversity(area): \n",
    "    if area==0: \n",
    "        return 2/3\n",
    "    else:\n",
    "        k = invert(lambda k: sum_area(k), area, 0, 2) \n",
    "        return (area*area-2*sum_po_integral(k))/(area*area)\n",
    "\n",
    "\n",
    "def max_diversity(area):   \n",
    "    return 0.5\n",
    "\n",
    "\n",
    "def min_area(k):\n",
    "    return 2*k-k*k\n",
    "\n",
    "\n",
    "def min_po_integral(k):\n",
    "    return k*(k/4)*(2-k*k)\n",
    "\n",
    "\n",
    "def min_diversity(area):    \n",
    "    if area==0: \n",
    "        return 3/4\n",
    "    else:\n",
    "        k = invert(lambda k: min_area(k), area, 0, 1) \n",
    "        return (area*area-2*min_po_integral(k))/(area*area)"
   ]
  },
  {
   "cell_type": "code",
   "execution_count": null,
   "metadata": {},
   "outputs": [],
   "source": [
    "areas =  np.linspace(0.0, 1, 100)  \n",
    "\n",
    "min_diversities = np.array(list(map(lambda area: min_diversity(area), areas)))\n",
    "max_diversities = np.array(list(map(lambda area: max_diversity(area), areas)))\n",
    "sum_diversities = np.array(list(map(lambda area: sum_diversity(area), areas)))\n",
    "prod_diversities = np.array(list(map(lambda area: prod_diversity(area), areas)))\n",
    "\n",
    "figure(figsize=(4, 4), dpi=80)\n",
    "# plotting the line 1 points\n",
    "# default: matplotlib.rcParams['figure.figsize'] = [8.0, 6.0]\n",
    "plt.plot(areas, min_diversities, \"k-\",label = \"$min(x_1,x_2)$\") \n",
    "plt.plot(areas, max_diversities, \"k:\",label = \"$max(x_1,x_2)$\") \n",
    "plt.plot(areas, sum_diversities, \"k-.\",label = \"$(x_1+x_2)/2$\") \n",
    "plt.plot(areas, prod_diversities, \"k--\",label = \"$x_1 x_2$ (po)\") \n",
    "\n",
    "plt.xlim(0, 1)\n",
    "plt.ylim(0, 1) \n",
    "# naming the x axis \n",
    "plt.xlabel('percentage selected') \n",
    "# naming the y axis \n",
    "plt.ylabel('diversity') \n",
    "  \n",
    "# show a legend on the plot \n",
    "plt.legend(loc='lower right') \n",
    "\n",
    "plt.grid(True)\n",
    "  \n",
    "# function to show the plot \n",
    "#plt.savefig('diversity_vs_area.png')\n",
    "#tikzplotlib.save(\"diversity_vs_area.tex\")\n",
    "\n",
    "plt.show() \n",
    "    "
   ]
  },
  {
   "cell_type": "markdown",
   "metadata": {},
   "source": [
    "# Rarefication example (Fig. 8-a)"
   ]
  },
  {
   "cell_type": "code",
   "execution_count": null,
   "metadata": {},
   "outputs": [],
   "source": [
    "my_area_to_select = 0.1"
   ]
  },
  {
   "cell_type": "code",
   "execution_count": null,
   "metadata": {},
   "outputs": [],
   "source": [
    "def uniform_area(k):\n",
    "    if k == 0:\n",
    "        return 0.0\n",
    "    else:\n",
    "        return k - k * math.log(k)\n",
    "\n",
    "#def rarified_xi_area(k):\n",
    "#    return 2*math.sqrt(k)-k \n",
    "def rarified_xi_area(k):\n",
    "    if k == 0:\n",
    "        return 0.0\n",
    "    else:\n",
    "        return k - k * math.log(k)\n",
    "\n",
    "#def rarified_x1x2_area(k):\n",
    "#    return k+2*math.sqrt(k)*(1-math.sqrt(k)) \n",
    "def rarified_x1x2_area(k):\n",
    "    if k == 0:\n",
    "        return 0.0\n",
    "    else:\n",
    "         return k - k * math.log(k)\n",
    "\n",
    "def uniform_k(area):\n",
    "    return invert(lambda k: uniform_area(k), area, 0, 1)\n",
    "    \n",
    "def rarified_xi_k(area):\n",
    "    return invert(lambda k:  rarified_xi_area(k), area, 0, 1)\n",
    "\n",
    "def rarified_x1x2_k(area):\n",
    "    return invert(lambda k:  rarified_x1x2_area(k), area, 0, 1)\n",
    "    \n",
    "\n",
    "def uniform_x2(x1, k):\n",
    "    if x1 is None:\n",
    "        return np.nan\n",
    "    if x1 <= k:\n",
    "        return np.nan\n",
    "    return k/x1\n",
    "\n",
    "def rarified_x2_x2(x1, k):\n",
    "    if x1 <= k:\n",
    "        return np.nan\n",
    "    return math.sqrt(k/x1)\n",
    "\n",
    "def rarified_x1x2_x2(x1, k):\n",
    "    if x1 <= math.sqrt(k):\n",
    "        return np.nan\n",
    "    return math.sqrt(k)/x1"
   ]
  },
  {
   "cell_type": "code",
   "execution_count": null,
   "metadata": {},
   "outputs": [],
   "source": [
    "my_uniform_k = uniform_k(my_area_to_select)\n",
    "#print(\"my_uniform_k: \"+str(my_uniform_k))\n",
    "my_rarified_xi_k =  rarified_xi_k(my_area_to_select)\n",
    "my_rarified_x1x2_k =  rarified_x1x2_k(my_area_to_select)\n",
    "\n",
    "x1_values =  np.linspace(0.0, 1, 1000)\n",
    "\n",
    "uniform_x2_values = np.array(list(map(lambda x1: uniform_x2(x1, my_uniform_k), x1_values)))\n",
    "rarified_x2_x2_values = np.array(list(map(lambda x1: rarified_x2_x2(x1, my_rarified_xi_k), x1_values)))\n",
    "rarified_x1x2_x2_values = np.array(list(map(lambda x1: rarified_x1x2_x2(x1, my_rarified_x1x2_k), x1_values)))"
   ]
  },
  {
   "cell_type": "code",
   "execution_count": null,
   "metadata": {},
   "outputs": [],
   "source": [
    "figure(figsize=(4, 4), dpi=80)\n",
    "# plotting the line 1 points  \n",
    "plt.plot(x1_values, uniform_x2_values, \"k-\",label = \"$dx_1 dx_2$\") \n",
    "plt.plot(x1_values, rarified_x2_x2_values, \"k:\",label = \"$2x_2 dx_1 dx_2$\") \n",
    "plt.plot(x1_values, rarified_x1x2_x2_values, \"k-.\",label = \"$4x_1 x_2 dx_1 dx_2$\") \n",
    "plt.xlim(0, 1)\n",
    "plt.ylim(0, 1) \n",
    "# naming the x axis \n",
    "plt.xlabel('$x_1$') \n",
    "# naming the y axis \n",
    "plt.ylabel('$x_2$') \n",
    "# giving a title to my graph \n",
    "#plt.title('impartiality for various utility functions!') \n",
    "  \n",
    "# show a legend on the plot \n",
    "plt.legend() \n",
    "plt.grid(True)\n",
    "  \n",
    "# function to show the plot \n",
    "#plt.savefig('rarefication_dx1_dx2.png')\n",
    "# saving in tikz formal\n",
    "#tikzplotlib.save('rarefication_dx1_dx2.tex')    \n",
    "plt.show()   "
   ]
  },
  {
   "cell_type": "markdown",
   "metadata": {},
   "source": [
    "# Cone relation & trade-off (Fig. 8-b)"
   ]
  },
  {
   "cell_type": "code",
   "execution_count": null,
   "metadata": {},
   "outputs": [],
   "source": [
    "my_area_to_select = 0.25\n",
    "# a here is the inverse of the a in the paper\n",
    "my_tradeoff_a =[0.5, 2, 10]\n",
    "my_linestyle=[\"k:\",\"k-.\",\"k--\"]\n",
    "my_linelabel=[\"a=2\",\"a=0.5\",\"a=0.1\"]\n",
    "precision = 0.0000001"
   ]
  },
  {
   "cell_type": "code",
   "execution_count": null,
   "metadata": {},
   "outputs": [],
   "source": [
    "def tradeoff_y(x, a, k):\n",
    "    triangle=0.5*a*(1-x)*(1-x)\n",
    "    rectangle = x*a*(1-x)\n",
    "    if rectangle+triangle>=k:\n",
    "        return min(max(0,-a*x+math.sqrt(a*a*x*x+2*a*k)),1)\n",
    "    else:\n",
    "        return min(max(0,k+triangle),1)\n",
    "                       \n",
    "def tradeoff_area(a,k):\n",
    "    integral, _ = integrate.quad(lambda x: tradeoff_y(x, a, k), 0, 1)\n",
    "    return integral\n",
    "\n",
    "def tradeoff_k(area, a):\n",
    "    return invert(lambda k: tradeoff_area(a,k), area, 0, 1)\n",
    "\n",
    "def tradeoff_x2_values(x1, a, k):\n",
    "    float_result = tradeoff_y(x1, a, k)\n",
    "    if float_result <= 0 or float_result>=1:\n",
    "        return np.nan\n",
    "    else:\n",
    "        return float_result"
   ]
  },
  {
   "cell_type": "code",
   "execution_count": null,
   "metadata": {},
   "outputs": [],
   "source": [
    "my_tradeoff_k = []\n",
    "for a in my_tradeoff_a:\n",
    "    my_tradeoff_k.append(tradeoff_k(my_area_to_select, a))\n",
    "    \n",
    "x1_values =  np.linspace(0.0, 1, 1000)\n",
    "my_tradeoff_x2_values=[]\n",
    "for i in range(len(my_tradeoff_a)):\n",
    "    my_tradeoff_x2_values.append(np.array(list(map(lambda x1: tradeoff_x2_values(x1, my_tradeoff_a[i], my_tradeoff_k[i]), x1_values))))\n",
    "\n",
    "figure(figsize=(4, 4), dpi=80)\n",
    "# plotting the line 1 points  \n",
    "for i in range(len(my_tradeoff_a)):\n",
    "    plt.plot(x1_values, my_tradeoff_x2_values[i], my_linestyle[i],label ='${}$'.format(my_linelabel[i])) \n",
    "plt.xlim(0, 1)\n",
    "plt.ylim(0, 1) \n",
    "# naming the x axis \n",
    "plt.xlabel('$x_1$') \n",
    "# naming the y axis \n",
    "plt.ylabel('$x_2$') \n",
    "# giving a title to my graph \n",
    "#plt.title('impartiality for various utility functions!') \n",
    "plt.grid(True)\n",
    "  \n",
    "# show a legend on the plot \n",
    "plt.legend() \n",
    "  \n",
    "# function to show the plot \n",
    "#plt.savefig('tradeoff.png')\n",
    "#tikzplotlib.save('tradeoff.tex') \n",
    "plt.show() "
   ]
  },
  {
   "cell_type": "markdown",
   "metadata": {},
   "source": [
    "# Sorting by Pareto fronts vs by $k$-Pareto optimality"
   ]
  },
  {
   "cell_type": "markdown",
   "metadata": {},
   "source": [
    "## Selections of measure $\\mu=0.2$, Fig. 12\n",
    "\n",
    "The set $X$ is composed of a large number of points placed on a regular grid."
   ]
  },
  {
   "cell_type": "code",
   "execution_count": null,
   "metadata": {},
   "outputs": [],
   "source": [
    "def whisker_y(x, k):\n",
    "    def f_A(x, k):\n",
    "        return 0.5-x\n",
    "    def f_B(x, k):\n",
    "        return -x+math.sqrt(2*k)+0.5\n",
    "    def f_C(x, k):\n",
    "        return -0.5*x+(k/x)+0.5\n",
    "    def f_D(x, k):\n",
    "        return math.sqrt((x-0.5)*(x-0.5)+2*k)+0.5-x\n",
    "    if k ==0:\n",
    "        return f_A(x, k)\n",
    "    else:\n",
    "        if x > 0.5: \n",
    "            return f_D(x, k)\n",
    "        elif x > math.sqrt(2*k): \n",
    "            return f_B(x, k)\n",
    "        elif x>k:\n",
    "            return f_C(x, k)\n",
    "        else:\n",
    "            return 1\n",
    "                      \n",
    "def whisker_area(k):\n",
    "    integral, _ = integrate.quad(lambda x: whisker_y(x, k), 0, 1)\n",
    "    return integral - 0.125\n",
    "\n",
    "def whisker_k(area):\n",
    "    return invert(lambda k: whisker_area(k), area, 0.0001, 0.125)\n",
    "         \n",
    "\n",
    "def whisker_x2_values(x1, k):\n",
    "    float_result = whisker_y(x1, k)\n",
    "    if float_result <= 0 or float_result>=1:\n",
    "        return np.nan\n",
    "    else:\n",
    "        return float_result\n",
    "\n",
    "def flip(np_array):\n",
    "     return np_array\n",
    "#    return 1-np_array\n",
    "\n",
    "def reflip(np_array):\n",
    "     return 1-np_array\n",
    "#    return np_array\n",
    "     \n",
    "def l_bound(x):\n",
    "    if x <0.5:\n",
    "        return 0.75-0.5*x\n",
    "    elif x<0.75:\n",
    "        return 0.5-2*(x-0.5)\n",
    "    else:\n",
    "        return 0\n",
    "    \n",
    "def u_bound(x):\n",
    "    if x<0.5:\n",
    "        return 1\n",
    "    else:\n",
    "        return 1-(x-0.5)"
   ]
  },
  {
   "cell_type": "code",
   "execution_count": null,
   "metadata": {},
   "outputs": [],
   "source": [
    "my_area_to_select = 0.1 #selecting 20 percent of the shaded area\n",
    "# a here is the inverse of the a in the paper\n",
    "whisker_linestyle=\"k-\"\n",
    "whisker_linelabel=\"po\"\n",
    "nsgaii_linestyle=\"k-.\"\n",
    "limit_linestyle=\"k-\"\n",
    "nsgaii_linelabel=\"Pareto fronts\"\n",
    "precision = 0.0000001"
   ]
  },
  {
   "cell_type": "code",
   "execution_count": null,
   "metadata": {
    "scrolled": true
   },
   "outputs": [],
   "source": [
    "my_whisker_k = whisker_k(my_area_to_select)\n",
    "    \n",
    "x1_values =  np.linspace(0.0, 1, 2500)\n",
    "    \n",
    "my_whisker_x2_values= np.array(list(map(lambda x1: whisker_x2_values(x1, my_whisker_k), x1_values)))\n",
    "my_nsgaii_x2_values= np.array(list(map(lambda x1: math.sqrt(2*my_area_to_select+0.25)-x1, x1_values)))\n",
    "u_bound_x2_values= np.array(list(map(lambda x1: u_bound(x1), x1_values)))\n",
    "l_bound_x2_values= np.array(list(map(lambda x1: l_bound(x1), x1_values)))\n",
    "\n",
    "figure(figsize=(4, 4), dpi=80)\n",
    "plt.plot( flip(x1_values), flip(my_whisker_x2_values),\n",
    "         whisker_linestyle,label =whisker_linelabel) \n",
    "plt.plot(flip(x1_values), flip(my_nsgaii_x2_values), \n",
    "         nsgaii_linestyle,label =nsgaii_linelabel) \n",
    "#plt.plot(x1_values, u_bound_x2_values, limit_linestyle) \n",
    "#plt.plot(x1_values, l_bound_x2_values, limit_linestyle) \n",
    "plt.fill_between(reflip(x1_values), reflip(l_bound_x2_values), reflip(u_bound_x2_values),  hatch=\"....\", facecolor='lightgrey',edgecolor='dimgray')\n",
    "plt.plot()\n",
    "#plt.axes().set_aspect('equal', adjustable='box')\n",
    "\n",
    "plt.xlim(0, 1)\n",
    "plt.ylim(0, 1) \n",
    "# naming the x axis \n",
    "plt.xlabel('$x_1$') \n",
    "# naming the y axis \n",
    "plt.ylabel('$x_2$') \n",
    "# set ticks and \n",
    "#plt.xticks([])\n",
    "#plt.yticks([])\n",
    "# giving a title to my graph \n",
    "#plt.title('impartiality for various utility functions!') \n",
    "  \n",
    "# show a legend on the plot \n",
    "plt.legend() \n",
    "  \n",
    "# function to show the plot \n",
    "# plt.savefig('whisker.png')\n",
    "# tikzplotlib.save('selection_by_fronts_and_po.tex') \n",
    "plt.show() \n",
    "    "
   ]
  },
  {
   "cell_type": "markdown",
   "metadata": {},
   "source": [
    "## Visualization of equivalence classes (fronts)"
   ]
  },
  {
   "cell_type": "markdown",
   "metadata": {},
   "source": [
    "We'll use implementation of Nondominated sorting and sorting by $po$ from `deap` library."
   ]
  },
  {
   "cell_type": "code",
   "execution_count": null,
   "metadata": {},
   "outputs": [],
   "source": [
    "from deap import base, creator\n",
    "from deap.benchmarks.tools import hypervolume\n",
    "import deap.tools as tools\n",
    "from deap.tools.emo import *\n",
    "#import random"
   ]
  },
  {
   "cell_type": "code",
   "execution_count": null,
   "metadata": {},
   "outputs": [],
   "source": [
    "def eval_func(ind):\n",
    "    return tuple(ind)\n",
    "\n",
    "creator.create(\"FitnessMax\", base.Fitness, weights=(-1.0,) * 2)\n",
    "# every individual is a list\n",
    "creator.create(\"Individual\", list, fitness=creator.FitnessMax)\n",
    "    \n",
    "# toolbox initialization\n",
    "toolbox = base.Toolbox()\n",
    "\n",
    "toolbox.register(\"attr_bool\", np.random.rand) #random.rand, 0, 1)\n",
    "# Structure initializers\n",
    "toolbox.register(\"individual\", tools.initRepeat, creator.Individual, \n",
    "    toolbox.attr_bool, 2)\n",
    "toolbox.register(\"population\", tools.initRepeat, list, toolbox.individual)\n",
    "\n",
    "toolbox.register(\"evaluate\", eval_func)"
   ]
  },
  {
   "cell_type": "code",
   "execution_count": null,
   "metadata": {},
   "outputs": [],
   "source": [
    "def create_uniform_grid(low=0, high=1, num=10):\n",
    "    pop = []\n",
    "    delta = (high-low) / num\n",
    "    for i in range(0, num + 1):\n",
    "        for j in range(0, num + 1):\n",
    "            pop.append(creator.Individual([np.round(low + i*delta, 3),np.round(low + j*delta, 3)]))\n",
    "    return pop"
   ]
  },
  {
   "cell_type": "code",
   "execution_count": null,
   "metadata": {},
   "outputs": [],
   "source": [
    "def calc_fitness(pop):\n",
    "    invalid_ind = [ind for ind in pop if not ind.fitness.valid]\n",
    "    fitnesses = toolbox.map(toolbox.evaluate, invalid_ind)\n",
    "    for ind, fit in zip(invalid_ind, fitnesses):\n",
    "        ind.fitness.values = fit"
   ]
  },
  {
   "cell_type": "markdown",
   "metadata": {},
   "source": [
    "### Sorting points of a grid, Fig. 11"
   ]
  },
  {
   "cell_type": "code",
   "execution_count": null,
   "metadata": {},
   "outputs": [],
   "source": [
    "grid_num = 10"
   ]
  },
  {
   "cell_type": "code",
   "execution_count": null,
   "metadata": {},
   "outputs": [],
   "source": [
    "np.random.seed(10)\n",
    "pop_front = create_uniform_grid(num=grid_num)\n",
    "calc_fitness(pop_front)\n",
    "fronts_front = sortNondominated(pop_front, len(pop_front))"
   ]
  },
  {
   "cell_type": "code",
   "execution_count": null,
   "metadata": {},
   "outputs": [],
   "source": [
    "np.random.seed(10)\n",
    "pop_po = create_uniform_grid(num=grid_num)\n",
    "calc_fitness(pop_po)\n",
    "fronts_po = sortPO(pop_front, len(pop_front))"
   ]
  },
  {
   "cell_type": "code",
   "execution_count": null,
   "metadata": {},
   "outputs": [],
   "source": [
    "num_fronts = 7"
   ]
  },
  {
   "cell_type": "markdown",
   "metadata": {},
   "source": [
    "Sorting by Pareto fronts"
   ]
  },
  {
   "cell_type": "code",
   "execution_count": null,
   "metadata": {},
   "outputs": [],
   "source": [
    "figure(figsize=(4, 4), dpi=80)\n",
    "pop_fitness = np.array([el.fitness.values for el in pop_front])\n",
    "plt.scatter(pop_fitness[:, 0], pop_fitness[:, 1], s=5, c=\"grey\", marker='.')\n",
    "\n",
    "marker_arr = ['o', '<', '+', 'v', '_', 's', '1', '*', 'd', 'x']\n",
    "for i in range(0, num_fronts):\n",
    "    pop_fitness = np.array([el.fitness.values for el in fronts_front[i]])\n",
    "    plt.scatter(pop_fitness[:, 0], pop_fitness[:, 1], s=50, c=\"k\", \n",
    "                marker='${}$'.format(i)\n",
    "                #marker=marker_arr[i]\n",
    "               )\n",
    "    if i < 6:\n",
    "        plt.plot(pop_fitness[0], np.flip(pop_fitness[0]), c='k', lw=0.5)\n",
    "        \n",
    "plt.xlabel('$x_1$') \n",
    "plt.ylabel('$x_2$') \n",
    "\n",
    "plt.xlim([-0.05, 0.65])\n",
    "plt.ylim([-0.05, 0.65])\n",
    "\n",
    "#tikzplotlib.save('sorting_grid_front.tex') \n",
    "#plt.savefig('sorting_grid_front.png')"
   ]
  },
  {
   "cell_type": "markdown",
   "metadata": {},
   "source": [
    "Sorting by $k$-Pareto optimality"
   ]
  },
  {
   "cell_type": "code",
   "execution_count": null,
   "metadata": {},
   "outputs": [],
   "source": [
    "def plot_hyp(x, a, b, c):\n",
    "    plt.plot(x, a/(x-b) - c, c='k', lw=0.5)"
   ]
  },
  {
   "cell_type": "code",
   "execution_count": null,
   "metadata": {
    "scrolled": false
   },
   "outputs": [],
   "source": [
    "figure(figsize=(4, 4), dpi=80)\n",
    "pop_fitness = np.array([el.fitness.values for el in pop_po])\n",
    "plt.scatter(pop_fitness[:, 0], pop_fitness[:, 1], s=5, c=\"grey\", marker='.')\n",
    "\n",
    "marker_arr = ['o', '<', '+', 'v', '_', 's', '1', '*', 'd', 'x']\n",
    "for i in range(0, num_fronts):\n",
    "    pop_fitness = np.array([el.fitness.values for el in fronts_po[i]])\n",
    "    plt.scatter(pop_fitness[:, 0], pop_fitness[:, 1], s=50, c=\"k\", \n",
    "                marker='${}$'.format(i)\n",
    "                #marker=marker_arr[i]\n",
    "               )\n",
    "    \n",
    "# some tweaking to show hyperbola-like shapes\n",
    "x = np.arange(0.01, 0.1, 0.001)  \n",
    "plot_hyp(x, a=0.001, b=0, c=0)\n",
    "\n",
    "x = np.arange(0.01, 0.2, 0.001)\n",
    "plot_hyp(x, a=0.005, b=-0.015, c=0.015)\n",
    "    \n",
    "x = np.arange(0.01, 0.3, 0.001)\n",
    "plot_hyp(x, a=0.02, b=-0.05, c=0.05)\n",
    "\n",
    "x = np.arange(0.005, 0.4, 0.001)\n",
    "plot_hyp(x, a=0.03, b=-0.06, c=0.06)\n",
    "\n",
    "x = np.arange(0.008, 0.5, 0.001)\n",
    "plot_hyp(x, a=0.07, b=-0.11, c=0.11)\n",
    "\n",
    "plt.xlabel('$x_1$') \n",
    "plt.ylabel('$x_2$') \n",
    "plt.xlim([-0.05, 0.65])\n",
    "plt.ylim([-0.05, 0.65])\n",
    "\n",
    "#tikzplotlib.save('sorting_grid_po.tex') \n",
    "#plt.savefig('sorting_grid_po.png')"
   ]
  },
  {
   "cell_type": "markdown",
   "metadata": {},
   "source": [
    "### Sorting uniformly distributed random points, Fig. 13"
   ]
  },
  {
   "cell_type": "code",
   "execution_count": null,
   "metadata": {},
   "outputs": [],
   "source": [
    "pop_size = 500"
   ]
  },
  {
   "cell_type": "code",
   "execution_count": null,
   "metadata": {},
   "outputs": [],
   "source": [
    "np.random.seed(10)\n",
    "pop_front = toolbox.population(n=pop_size)\n",
    "calc_fitness(pop_front)\n",
    "fronts_front = sortNondominated(pop_front, len(pop_front))\n",
    "print('Sorting by fronts, number of fronts = {}'.format(len(fronts_front)))"
   ]
  },
  {
   "cell_type": "code",
   "execution_count": null,
   "metadata": {},
   "outputs": [],
   "source": [
    "np.random.seed(10)\n",
    "pop_po = toolbox.population(n=pop_size)\n",
    "calc_fitness(pop_po)\n",
    "fronts_po = sortPO(pop_front, len(pop_front))\n",
    "print('Sorting by po, number of fronts = {}'.format(len(fronts_po)))"
   ]
  },
  {
   "cell_type": "code",
   "execution_count": null,
   "metadata": {},
   "outputs": [],
   "source": [
    "num_fronts = 10"
   ]
  },
  {
   "cell_type": "markdown",
   "metadata": {},
   "source": [
    "Sorting by Pareto fronts"
   ]
  },
  {
   "cell_type": "code",
   "execution_count": null,
   "metadata": {},
   "outputs": [],
   "source": [
    "figure(figsize=(4, 4), dpi=80)\n",
    "# plotting all points\n",
    "pop_fitness = np.array([el.fitness.values for el in pop_front])\n",
    "plt.scatter(pop_fitness[:, 0], pop_fitness[:, 1], s=5, c=\"grey\", marker='.')\n",
    "\n",
    "# plotting first num_fronts fronts\n",
    "for i in range(0, num_fronts):\n",
    "    pop_fitness = np.array([el.fitness.values for el in fronts_front[i]])\n",
    "    plt.scatter(pop_fitness[:, 0], pop_fitness[:, 1], s=10, c=\"k\")\n",
    "        \n",
    "plt.xlabel('$x_1$') \n",
    "plt.ylabel('$x_2$') \n",
    "\n",
    "#tikzplotlib.save('sorting_uniform_front.tex') "
   ]
  },
  {
   "cell_type": "markdown",
   "metadata": {},
   "source": [
    "Sorting by $k$-Pareto optimality"
   ]
  },
  {
   "cell_type": "code",
   "execution_count": null,
   "metadata": {
    "scrolled": true
   },
   "outputs": [],
   "source": [
    "figure(figsize=(4, 4), dpi=80)\n",
    "# plotting all points\n",
    "pop_fitness = np.array([el.fitness.values for el in pop_po])\n",
    "plt.scatter(pop_fitness[:, 0], pop_fitness[:, 1], s=5, c=\"grey\", marker='.')\n",
    "\n",
    "# plotting first num_fronts fronts\n",
    "for i in range(0, num_fronts):\n",
    "    pop_fitness = np.array([el.fitness.values for el in fronts_po[i]])\n",
    "    plt.scatter(pop_fitness[:, 0], pop_fitness[:, 1], s=10, c=\"k\")\n",
    "        \n",
    "plt.xlabel('$x_1$') \n",
    "plt.ylabel('$x_2$') \n",
    "\n",
    "#tikzplotlib.save('sorting_uniform_po.tex') "
   ]
  },
  {
   "cell_type": "markdown",
   "metadata": {},
   "source": [
    "# Wealthy and non-wealth states, Fig. 16"
   ]
  },
  {
   "cell_type": "markdown",
   "metadata": {},
   "source": [
    "Check `wealthy_countries/README.md` for data and analysis scripts."
   ]
  },
  {
   "cell_type": "code",
   "execution_count": null,
   "metadata": {},
   "outputs": [],
   "source": [
    "import pandas as pd"
   ]
  },
  {
   "cell_type": "code",
   "execution_count": null,
   "metadata": {},
   "outputs": [],
   "source": [
    "country_data = pd.read_csv(\"wealthy_countries/output.csv\")\n",
    "country_data.head()"
   ]
  },
  {
   "cell_type": "code",
   "execution_count": null,
   "metadata": {},
   "outputs": [],
   "source": [
    "ax = country_data[~country_data['is_poor']].plot(\n",
    "    kind='scatter',\n",
    "    x='gni',\n",
    "    y='hdi',\n",
    "    c='k',\n",
    "    grid=True,\n",
    ")\n",
    "\n",
    "ax = country_data[country_data['is_poor']].plot(\n",
    "    kind='scatter',\n",
    "    x='gni',\n",
    "    y='hdi',\n",
    "    c='grey',\n",
    "    grid=True,\n",
    "    ax=ax,\n",
    ")\n",
    "\n",
    "ax.set_xlabel('Gross National Income (GNI), \\$')\n",
    "ax.set_ylabel('Education  and  Health  Indicator')\n",
    "ax.legend(['wealthy', 'non-wealthy'])\n",
    "\n",
    "#tikzplotlib.save('wealth_indicator.tex') \n",
    "#plt.savefig('wealth_indicator.png')"
   ]
  },
  {
   "cell_type": "code",
   "execution_count": null,
   "metadata": {},
   "outputs": [],
   "source": []
  }
 ],
 "metadata": {
  "kernelspec": {
   "display_name": "Python 3",
   "language": "python",
   "name": "python3"
  },
  "language_info": {
   "codemirror_mode": {
    "name": "ipython",
    "version": 3
   },
   "file_extension": ".py",
   "mimetype": "text/x-python",
   "name": "python",
   "nbconvert_exporter": "python",
   "pygments_lexer": "ipython3",
   "version": "3.6.9"
  },
  "toc": {
   "base_numbering": 1,
   "nav_menu": {},
   "number_sections": true,
   "sideBar": true,
   "skip_h1_title": false,
   "title_cell": "Table of Contents",
   "title_sidebar": "Contents",
   "toc_cell": false,
   "toc_position": {
    "height": "calc(100% - 180px)",
    "left": "10px",
    "top": "150px",
    "width": "316px"
   },
   "toc_section_display": true,
   "toc_window_display": true
  }
 },
 "nbformat": 4,
 "nbformat_minor": 4
}
